{
  "nbformat": 4,
  "nbformat_minor": 0,
  "metadata": {
    "colab": {
      "provenance": [],
      "authorship_tag": "ABX9TyMTx1j3544EqIWQs55zgjkT"
    },
    "kernelspec": {
      "name": "python3",
      "display_name": "Python 3"
    },
    "language_info": {
      "name": "python"
    }
  },
  "cells": [
    {
      "cell_type": "code",
      "execution_count": 1,
      "metadata": {
        "id": "6CYVSE4XqlMf",
        "colab": {
          "base_uri": "https://localhost:8080/"
        },
        "outputId": "a9bb5cdb-1a98-453b-e0c0-ed2cc2414dcf"
      },
      "outputs": [
        {
          "output_type": "stream",
          "name": "stdout",
          "text": [
            "<class 'int'>\n",
            "<class 'str'>\n",
            "<class 'float'>\n",
            "<class 'bool'>\n"
          ]
        }
      ],
      "source": [
        "x = 10\n",
        "nome = \"teste\"\n",
        "nota = 8.5\n",
        "flag = True\n",
        "\n",
        "print(type(x))\n",
        "print(type(nome))\n",
        "print(type(nota))\n",
        "print(type(flag))\n"
      ]
    },
    {
      "cell_type": "code",
      "source": [
        "nome = input(\"Digite um nome: \")\n",
        "print(nome)"
      ],
      "metadata": {
        "colab": {
          "base_uri": "https://localhost:8080/"
        },
        "id": "q0cDU6cZvMfI",
        "outputId": "e181a0d6-d40d-4526-c0ef-cf4456dbecb2"
      },
      "execution_count": 2,
      "outputs": [
        {
          "output_type": "stream",
          "name": "stdout",
          "text": [
            "Digite um nome: testando\n",
            "testando\n"
          ]
        }
      ]
    },
    {
      "cell_type": "markdown",
      "source": [
        "usando formatadores de caracteres "
      ],
      "metadata": {
        "id": "y9hvnUuSx5xr"
      }
    },
    {
      "cell_type": "code",
      "source": [
        "print(\"Olá %s tudo bem ?  \" %(nome))"
      ],
      "metadata": {
        "colab": {
          "base_uri": "https://localhost:8080/"
        },
        "id": "NYiDIOCHxi6j",
        "outputId": "1dd8ad5e-a2b5-4298-97ec-c17ed7106774"
      },
      "execution_count": 3,
      "outputs": [
        {
          "output_type": "stream",
          "name": "stdout",
          "text": [
            "Olá testando tudo bem ?  \n"
          ]
        }
      ]
    },
    {
      "cell_type": "markdown",
      "source": [
        "usando strings formatadas"
      ],
      "metadata": {
        "id": "zb6b1_z_yR8C"
      }
    },
    {
      "cell_type": "code",
      "source": [
        "print(f\"Olá {nome} tudo bem ? \")"
      ],
      "metadata": {
        "colab": {
          "base_uri": "https://localhost:8080/"
        },
        "id": "5UCdM67oyVrv",
        "outputId": "dee802bb-91e3-44dc-d4e4-461da783f479"
      },
      "execution_count": 4,
      "outputs": [
        {
          "output_type": "stream",
          "name": "stdout",
          "text": [
            "Olá testando tudo bem ? \n"
          ]
        }
      ]
    },
    {
      "cell_type": "code",
      "source": [
        "# Qual o resultado armazanado na variável operacao_1: 25 ou 17 ?\n",
        "operacao_1 = 2 + 3 * 5\n",
        "print(operacao_1)"
      ],
      "metadata": {
        "colab": {
          "base_uri": "https://localhost:8080/"
        },
        "id": "z_auPcbgzN9G",
        "outputId": "3aae8982-9008-4b8f-b5e2-1c0197bac870"
      },
      "execution_count": 6,
      "outputs": [
        {
          "output_type": "stream",
          "name": "stdout",
          "text": [
            "17\n"
          ]
        }
      ]
    },
    {
      "cell_type": "code",
      "source": [
        "# Qual o resultado armazanado na variável operacao_2: 25 ou 17 ?\n",
        "operacao_2 = (2 + 3) * 5\n",
        "print(operacao_2)"
      ],
      "metadata": {
        "colab": {
          "base_uri": "https://localhost:8080/"
        },
        "id": "o6poviwUznpK",
        "outputId": "be66ce42-c26a-44af-bc93-a6482e46c52a"
      },
      "execution_count": 7,
      "outputs": [
        {
          "output_type": "stream",
          "name": "stdout",
          "text": [
            "25\n"
          ]
        }
      ]
    },
    {
      "cell_type": "code",
      "source": [
        "# Qual o resultado armazanado na variável operacao_3: 4 ou 1 ?\n",
        "operacao_3 = 4/ 2 ** 2\n",
        "print(operacao_3)"
      ],
      "metadata": {
        "colab": {
          "base_uri": "https://localhost:8080/"
        },
        "id": "dSG-Z24nzv66",
        "outputId": "40eda3b1-0cc2-443d-eeae-1385d748b622"
      },
      "execution_count": 8,
      "outputs": [
        {
          "output_type": "stream",
          "name": "stdout",
          "text": [
            "1.0\n"
          ]
        }
      ]
    },
    {
      "cell_type": "code",
      "source": [
        "# Qual o resultado armazanado na variável operacao_1: 1 ou 5 ?\n",
        "operacao_4 = 13 % 3 + 4\n",
        "print(operacao_4)"
      ],
      "metadata": {
        "colab": {
          "base_uri": "https://localhost:8080/"
        },
        "id": "VRi7yJu2z7nG",
        "outputId": "6e789f2f-de5c-410d-dd9a-899fded81906"
      },
      "execution_count": 9,
      "outputs": [
        {
          "output_type": "stream",
          "name": "stdout",
          "text": [
            "5\n"
          ]
        }
      ]
    }
  ]
}