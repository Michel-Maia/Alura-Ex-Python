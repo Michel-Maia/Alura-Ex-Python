{
  "nbformat": 4,
  "nbformat_minor": 0,
  "metadata": {
    "colab": {
      "provenance": [],
      "authorship_tag": "ABX9TyOUy5wHcPfa10sxnKqrpBDn"
    },
    "kernelspec": {
      "name": "python3",
      "display_name": "Python 3"
    },
    "language_info": {
      "name": "python"
    }
  },
  "cells": [
    {
      "cell_type": "code",
      "execution_count": 1,
      "metadata": {
        "id": "jbqbRJLwdVAg"
      },
      "outputs": [],
      "source": [
        "dados = [ \n",
        "    ['A', 'B', 'C'],\n",
        "    ['D', 'E', 'F'],\n",
        "    ['G', 'H', 'I']\n",
        "]"
      ]
    },
    {
      "cell_type": "markdown",
      "source": [
        "In[1]:"
      ],
      "metadata": {
        "id": "BYPFwSmMdy27"
      }
    },
    {
      "cell_type": "code",
      "source": [
        "result = []\n",
        "for lista in dados:\n",
        "    for item in lista:\n",
        "        result.append(item)\n",
        "result"
      ],
      "metadata": {
        "colab": {
          "base_uri": "https://localhost:8080/"
        },
        "id": "9bfcWmcedrFB",
        "outputId": "898ca4bb-aa65-4ce5-ff50-34c5893c77f7"
      },
      "execution_count": 2,
      "outputs": [
        {
          "output_type": "execute_result",
          "data": {
            "text/plain": [
              "['A', 'B', 'C', 'D', 'E', 'F', 'G', 'H', 'I']"
            ]
          },
          "metadata": {},
          "execution_count": 2
        }
      ]
    },
    {
      "cell_type": "markdown",
      "source": [
        "Out[1]\n",
        "\n",
        "['A', 'B', 'C', 'D', 'E', 'F', 'G', 'H', 'I']\n"
      ],
      "metadata": {
        "id": "dN41h1a-d5N_"
      }
    },
    {
      "cell_type": "markdown",
      "source": [
        "In[2]:"
      ],
      "metadata": {
        "id": "DVeEKGyLeyTZ"
      }
    },
    {
      "cell_type": "code",
      "source": [
        "result_2 = []\n",
        "for lista in dados:\n",
        "    result_2 += lista\n",
        "result_2"
      ],
      "metadata": {
        "colab": {
          "base_uri": "https://localhost:8080/"
        },
        "id": "xGY3U-Sie3C1",
        "outputId": "19aab488-fded-408c-b49e-e8dfd31e3ce6"
      },
      "execution_count": 3,
      "outputs": [
        {
          "output_type": "execute_result",
          "data": {
            "text/plain": [
              "['A', 'B', 'C', 'D', 'E', 'F', 'G', 'H', 'I']"
            ]
          },
          "metadata": {},
          "execution_count": 3
        }
      ]
    },
    {
      "cell_type": "markdown",
      "source": [
        "Out[2]\n",
        "\n",
        "['A', 'B', 'C', 'D', 'E', 'F', 'G', 'H', 'I']"
      ],
      "metadata": {
        "id": "3PludlpTfkh3"
      }
    },
    {
      "cell_type": "markdown",
      "source": [
        "In[3]"
      ],
      "metadata": {
        "id": "D53n0Qy9fsvM"
      }
    },
    {
      "cell_type": "code",
      "source": [
        "[item for lista in dados for item in lista]"
      ],
      "metadata": {
        "colab": {
          "base_uri": "https://localhost:8080/"
        },
        "id": "soGEeKCRfw3Z",
        "outputId": "e42505cc-83be-45c9-d472-d80136e5398c"
      },
      "execution_count": 4,
      "outputs": [
        {
          "output_type": "execute_result",
          "data": {
            "text/plain": [
              "['A', 'B', 'C', 'D', 'E', 'F', 'G', 'H', 'I']"
            ]
          },
          "metadata": {},
          "execution_count": 4
        }
      ]
    },
    {
      "cell_type": "markdown",
      "source": [
        "Out[3]\n",
        "\n",
        "['A', 'B', 'C', 'D', 'E', 'F', 'G', 'H', 'I']"
      ],
      "metadata": {
        "id": "M2URGJf7f0h2"
      }
    }
  ]
}