{
  "nbformat": 4,
  "nbformat_minor": 0,
  "metadata": {
    "colab": {
      "provenance": [],
      "authorship_tag": "ABX9TyNSOm1eB4VLEfywKjV5TI9/"
    },
    "kernelspec": {
      "name": "python3",
      "display_name": "Python 3"
    },
    "language_info": {
      "name": "python"
    }
  },
  "cells": [
    {
      "cell_type": "code",
      "execution_count": 1,
      "metadata": {
        "colab": {
          "base_uri": "https://localhost:8080/"
        },
        "id": "kYsgTwO8B1jI",
        "outputId": "2afa8374-1ab9-4518-9865-c900e8f3b55b"
      },
      "outputs": [
        {
          "output_type": "stream",
          "name": "stdout",
          "text": [
            "0\n",
            "1\n",
            "2\n",
            "3\n",
            "4\n"
          ]
        }
      ],
      "source": [
        "for x in range(5):\n",
        "  print(x)"
      ]
    },
    {
      "cell_type": "markdown",
      "source": [
        "Python requer uma sequência para que ocorra a iteração. Para criar uma sequência numérica de iteração em Python podemos usar a função range()."
      ],
      "metadata": {
        "id": "z2gzm88uB-Sy"
      }
    },
    {
      "cell_type": "code",
      "source": [
        "# ex do uso do break\n",
        "\n",
        "disciplina = \"Linguagem de programação\"\n",
        "\n",
        "for c in disciplina: \n",
        "  if c == 'a':\n",
        "    break\n",
        "  else:\n",
        "    print(c)"
      ],
      "metadata": {
        "colab": {
          "base_uri": "https://localhost:8080/"
        },
        "id": "8A4UAJ-ID6x_",
        "outputId": "674e5b2b-da78-4438-b8f6-373e1b579d32"
      },
      "execution_count": 2,
      "outputs": [
        {
          "output_type": "stream",
          "name": "stdout",
          "text": [
            "L\n",
            "i\n",
            "n\n",
            "g\n",
            "u\n"
          ]
        }
      ]
    },
    {
      "cell_type": "markdown",
      "source": [
        "O comando break \"para\" a execução de uma estrutura de repetição, já com o comando continue, conseguimos \"pular\" algumas execuções dependendo de uma condição "
      ],
      "metadata": {
        "id": "VTFxIiDQC_Ff"
      }
    },
    {
      "cell_type": "code",
      "source": [
        "# ex uso do continue\n",
        "\n",
        "disciplina = \"Linguagem de programação\"\n",
        "for c in disciplina:\n",
        "  if c == 'a':\n",
        "    continue\n",
        "  else:\n",
        "    print(c)"
      ],
      "metadata": {
        "colab": {
          "base_uri": "https://localhost:8080/"
        },
        "id": "iuyLJlk0EYrm",
        "outputId": "69678fe4-de65-44ec-9b5c-6cfcd07c599c"
      },
      "execution_count": 3,
      "outputs": [
        {
          "output_type": "stream",
          "name": "stdout",
          "text": [
            "L\n",
            "i\n",
            "n\n",
            "g\n",
            "u\n",
            "g\n",
            "e\n",
            "m\n",
            " \n",
            "d\n",
            "e\n",
            " \n",
            "p\n",
            "r\n",
            "o\n",
            "g\n",
            "r\n",
            "m\n",
            "ç\n",
            "ã\n",
            "o\n"
          ]
        }
      ]
    }
  ]
}