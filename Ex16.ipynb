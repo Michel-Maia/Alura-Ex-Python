{
  "nbformat": 4,
  "nbformat_minor": 0,
  "metadata": {
    "colab": {
      "provenance": [],
      "authorship_tag": "ABX9TyMQjegxfgAvFR9Fo1vFb8S6"
    },
    "kernelspec": {
      "name": "python3",
      "display_name": "Python 3"
    },
    "language_info": {
      "name": "python"
    }
  },
  "cells": [
    {
      "cell_type": "code",
      "execution_count": 1,
      "metadata": {
        "id": "EIP8WRbrg6JG"
      },
      "outputs": [],
      "source": [
        "nomes = ['Passat', 'Crossfox', 'DS5', 'C4', 'Jetta']\n",
        "kms = [15000, 12000, 32000, 8000, 50000]"
      ]
    },
    {
      "cell_type": "code",
      "source": [
        "dict(zip(nomes, kms))"
      ],
      "metadata": {
        "colab": {
          "base_uri": "https://localhost:8080/"
        },
        "id": "Fw1bGVYGhQjW",
        "outputId": "4c8d12b8-e114-4f68-e9d2-a2d301225435"
      },
      "execution_count": 2,
      "outputs": [
        {
          "output_type": "execute_result",
          "data": {
            "text/plain": [
              "{'Passat': 15000, 'Crossfox': 12000, 'DS5': 32000, 'C4': 8000, 'Jetta': 50000}"
            ]
          },
          "metadata": {},
          "execution_count": 2
        }
      ]
    },
    {
      "cell_type": "code",
      "source": [
        "dados = {\n",
        "    'Passat': {\n",
        "        'ano': 2012,\n",
        "        'km': 50000,\n",
        "        'valor': 75000,\n",
        "        'acessorios': ['Airbag', 'ABS']\n",
        "    }, \n",
        "    'Crossfox': {\n",
        "        'ano': 2015,\n",
        "        'km': 35000,\n",
        "        'valor': 25000\n",
        "    }\n",
        "}"
      ],
      "metadata": {
        "id": "zfnw7k9qxH3Z"
      },
      "execution_count": 3,
      "outputs": []
    },
    {
      "cell_type": "markdown",
      "source": [
        "saída esperada \n",
        "false\n",
        "true\n",
        "25000\n",
        "'ABS'"
      ],
      "metadata": {
        "id": "GXCoO7lQBlfo"
      }
    },
    {
      "cell_type": "code",
      "source": [
        "'acessorios' in dados ['Crossfox']"
      ],
      "metadata": {
        "colab": {
          "base_uri": "https://localhost:8080/"
        },
        "id": "KIJxKHwvBfUb",
        "outputId": "7c93816b-4c5d-440d-a056-4e5709e423a9"
      },
      "execution_count": 4,
      "outputs": [
        {
          "output_type": "execute_result",
          "data": {
            "text/plain": [
              "False"
            ]
          },
          "metadata": {},
          "execution_count": 4
        }
      ]
    },
    {
      "cell_type": "code",
      "source": [
        "'acessorios' in dados ['Passat']"
      ],
      "metadata": {
        "colab": {
          "base_uri": "https://localhost:8080/"
        },
        "id": "KL3Q9IjgCpc5",
        "outputId": "9e2f7d6c-36ab-4d2e-c7a2-49ae3cfc98eb"
      },
      "execution_count": 5,
      "outputs": [
        {
          "output_type": "execute_result",
          "data": {
            "text/plain": [
              "True"
            ]
          },
          "metadata": {},
          "execution_count": 5
        }
      ]
    },
    {
      "cell_type": "code",
      "source": [
        "dados ['Crossfox'] ['valor']"
      ],
      "metadata": {
        "colab": {
          "base_uri": "https://localhost:8080/"
        },
        "id": "Hm0QEyweCpIa",
        "outputId": "0bfe5ec9-24ee-409a-be09-0d63ac2a569d"
      },
      "execution_count": 6,
      "outputs": [
        {
          "output_type": "execute_result",
          "data": {
            "text/plain": [
              "25000"
            ]
          },
          "metadata": {},
          "execution_count": 6
        }
      ]
    },
    {
      "cell_type": "code",
      "source": [
        "dados['Passat']['acessorios'][-1]"
      ],
      "metadata": {
        "colab": {
          "base_uri": "https://localhost:8080/",
          "height": 36
        },
        "id": "HxxnAdUbCn2A",
        "outputId": "7b28ecf5-13f9-4fe9-b665-5dd8742442f2"
      },
      "execution_count": 8,
      "outputs": [
        {
          "output_type": "execute_result",
          "data": {
            "text/plain": [
              "'ABS'"
            ],
            "application/vnd.google.colaboratory.intrinsic+json": {
              "type": "string"
            }
          },
          "metadata": {},
          "execution_count": 8
        }
      ]
    },
    {
      "cell_type": "code",
      "source": [
        "dados = {'Jetta': 88000, 'Crossfox': 72000, 'DS5': 124000}"
      ],
      "metadata": {
        "id": "bR1kBxQ1HeR1"
      },
      "execution_count": 9,
      "outputs": []
    },
    {
      "cell_type": "code",
      "source": [],
      "metadata": {
        "id": "Vs8JiXmuLhIx"
      },
      "execution_count": null,
      "outputs": []
    }
  ]
}