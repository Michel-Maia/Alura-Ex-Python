{
  "nbformat": 4,
  "nbformat_minor": 0,
  "metadata": {
    "colab": {
      "provenance": [],
      "authorship_tag": "ABX9TyN59KNB1HWUG4FBRxXCejyX"
    },
    "kernelspec": {
      "name": "python3",
      "display_name": "Python 3"
    },
    "language_info": {
      "name": "python"
    }
  },
  "cells": [
    {
      "cell_type": "markdown",
      "source": [
        "lista do Python e o resultado obtido após um conjunto de manipulações:"
      ],
      "metadata": {
        "id": "EpPJ1fVJJwdq"
      }
    },
    {
      "cell_type": "code",
      "execution_count": 1,
      "metadata": {
        "id": "gxGu5b8wJpyE"
      },
      "outputs": [],
      "source": [
        "Acessorios = [\n",
        "    'Rodas de liga', \n",
        "    'Travas elétricas', \n",
        "    'Piloto automático',\n",
        "    'Bancos de couro',\n",
        "    'Ar condicionado'\n",
        "]"
      ]
    },
    {
      "cell_type": "code",
      "source": [
        "['Airbag',\n",
        " 'Ar condicionado',\n",
        " 'Bancos de couro',\n",
        " 'Piloto automático',\n",
        " 'Rodas de liga',\n",
        " 'Vidros elétricos']"
      ],
      "metadata": {
        "id": "4d3zJvBsKAaI"
      },
      "execution_count": null,
      "outputs": []
    },
    {
      "cell_type": "code",
      "source": [
        "Acessorios.append('Airbag') \n",
        "Acessorios"
      ],
      "metadata": {
        "colab": {
          "base_uri": "https://localhost:8080/"
        },
        "id": "9m-Dc2VHKJqB",
        "outputId": "e2d63c58-1379-4c6d-b721-a88adcb40217"
      },
      "execution_count": 3,
      "outputs": [
        {
          "output_type": "execute_result",
          "data": {
            "text/plain": [
              "['Rodas de liga',\n",
              " 'Travas elétricas',\n",
              " 'Piloto automático',\n",
              " 'Bancos de couro',\n",
              " 'Ar condicionado',\n",
              " 'Airbag',\n",
              " 'Airbag']"
            ]
          },
          "metadata": {},
          "execution_count": 3
        }
      ]
    },
    {
      "cell_type": "code",
      "source": [
        "Acessorios.pop()"
      ],
      "metadata": {
        "colab": {
          "base_uri": "https://localhost:8080/",
          "height": 36
        },
        "id": "r_3nSHrTKZVu",
        "outputId": "4335f1fd-1485-4de1-d68c-f6c83bba2431"
      },
      "execution_count": 4,
      "outputs": [
        {
          "output_type": "execute_result",
          "data": {
            "text/plain": [
              "'Airbag'"
            ],
            "application/vnd.google.colaboratory.intrinsic+json": {
              "type": "string"
            }
          },
          "metadata": {},
          "execution_count": 4
        }
      ]
    },
    {
      "cell_type": "code",
      "source": [
        "Acessorios"
      ],
      "metadata": {
        "colab": {
          "base_uri": "https://localhost:8080/"
        },
        "id": "JQ5jrYGGKcjq",
        "outputId": "a97390fe-ec8a-4f5f-891d-6091c961d971"
      },
      "execution_count": 5,
      "outputs": [
        {
          "output_type": "execute_result",
          "data": {
            "text/plain": [
              "['Rodas de liga',\n",
              " 'Travas elétricas',\n",
              " 'Piloto automático',\n",
              " 'Bancos de couro',\n",
              " 'Ar condicionado',\n",
              " 'Airbag']"
            ]
          },
          "metadata": {},
          "execution_count": 5
        }
      ]
    },
    {
      "cell_type": "code",
      "source": [
        "Acessorios.pop(1)\n",
        "Acessorios"
      ],
      "metadata": {
        "colab": {
          "base_uri": "https://localhost:8080/"
        },
        "id": "jy--F-irKoFH",
        "outputId": "a8b29aff-df30-4475-c53c-4dccf78ca888"
      },
      "execution_count": 6,
      "outputs": [
        {
          "output_type": "execute_result",
          "data": {
            "text/plain": [
              "['Rodas de liga',\n",
              " 'Piloto automático',\n",
              " 'Bancos de couro',\n",
              " 'Ar condicionado',\n",
              " 'Airbag']"
            ]
          },
          "metadata": {},
          "execution_count": 6
        }
      ]
    },
    {
      "cell_type": "code",
      "source": [
        "Acessorios.append('Vidros elétricos')\n",
        "Acessorios"
      ],
      "metadata": {
        "colab": {
          "base_uri": "https://localhost:8080/"
        },
        "id": "ExHeYJuLKwmk",
        "outputId": "737f58c9-3a93-434a-dabc-ac3480c0451f"
      },
      "execution_count": 7,
      "outputs": [
        {
          "output_type": "execute_result",
          "data": {
            "text/plain": [
              "['Rodas de liga',\n",
              " 'Piloto automático',\n",
              " 'Bancos de couro',\n",
              " 'Ar condicionado',\n",
              " 'Airbag',\n",
              " 'Vidros elétricos']"
            ]
          },
          "metadata": {},
          "execution_count": 7
        }
      ]
    },
    {
      "cell_type": "code",
      "source": [
        "Acessorios.sort()\n",
        "Acessorios"
      ],
      "metadata": {
        "colab": {
          "base_uri": "https://localhost:8080/"
        },
        "id": "iAt7UelxK470",
        "outputId": "8e8677d8-e70e-4fb4-93c2-c22682ee81d4"
      },
      "execution_count": 8,
      "outputs": [
        {
          "output_type": "execute_result",
          "data": {
            "text/plain": [
              "['Airbag',\n",
              " 'Ar condicionado',\n",
              " 'Bancos de couro',\n",
              " 'Piloto automático',\n",
              " 'Rodas de liga',\n",
              " 'Vidros elétricos']"
            ]
          },
          "metadata": {},
          "execution_count": 8
        }
      ]
    },
    {
      "cell_type": "markdown",
      "source": [
        "Exercicio módulo 3\n",
        "\n",
        "Considere o código"
      ],
      "metadata": {
        "id": "V8urPElwLaVs"
      }
    },
    {
      "cell_type": "code",
      "source": [
        "dados = [1, 2, 3, 4]\n",
        "dados_copia = dados\n",
        "dados_copia.append(5)"
      ],
      "metadata": {
        "id": "EyPcthLQLk3J"
      },
      "execution_count": 9,
      "outputs": []
    },
    {
      "cell_type": "code",
      "source": [
        "dados"
      ],
      "metadata": {
        "colab": {
          "base_uri": "https://localhost:8080/"
        },
        "id": "rpznK92fLvA0",
        "outputId": "a3ce9a87-fb9c-4517-e1e7-07182777561d"
      },
      "execution_count": 10,
      "outputs": [
        {
          "output_type": "execute_result",
          "data": {
            "text/plain": [
              "[1, 2, 3, 4, 5]"
            ]
          },
          "metadata": {},
          "execution_count": 10
        }
      ]
    },
    {
      "cell_type": "code",
      "source": [
        "dados_copia"
      ],
      "metadata": {
        "colab": {
          "base_uri": "https://localhost:8080/"
        },
        "id": "daLa6XnhLw_o",
        "outputId": "7cf318a1-e42f-4825-f450-3a56313d70fc"
      },
      "execution_count": 11,
      "outputs": [
        {
          "output_type": "execute_result",
          "data": {
            "text/plain": [
              "[1, 2, 3, 4, 5]"
            ]
          },
          "metadata": {},
          "execution_count": 11
        }
      ]
    },
    {
      "cell_type": "markdown",
      "source": [
        "Ex módulo 4"
      ],
      "metadata": {
        "id": "sjhPgLnfUDWW"
      }
    },
    {
      "cell_type": "code",
      "source": [
        "quadrado = []\n",
        "for i in range(10):\n",
        "  quadrado.append(i ** 2)\n",
        "\n",
        "quadrado"
      ],
      "metadata": {
        "colab": {
          "base_uri": "https://localhost:8080/"
        },
        "id": "Tsl128QFT_ux",
        "outputId": "908f3803-e648-4b6d-e1b8-6b00a9dc2f28"
      },
      "execution_count": 12,
      "outputs": [
        {
          "output_type": "execute_result",
          "data": {
            "text/plain": [
              "[0, 1, 4, 9, 16, 25, 36, 49, 64, 81]"
            ]
          },
          "metadata": {},
          "execution_count": 12
        }
      ]
    }
  ]
}