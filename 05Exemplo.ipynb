{
  "nbformat": 4,
  "nbformat_minor": 0,
  "metadata": {
    "colab": {
      "provenance": [],
      "authorship_tag": "ABX9TyM9aBHfpaHnv4vCpH6mooz8"
    },
    "kernelspec": {
      "name": "python3",
      "display_name": "Python 3"
    },
    "language_info": {
      "name": "python"
    }
  },
  "cells": [
    {
      "cell_type": "code",
      "execution_count": 1,
      "metadata": {
        "id": "N9sSpfyu0c7u"
      },
      "outputs": [],
      "source": [
        "text = 'A quilometragem média do veículo é '\n",
        "Km = 100000\n",
        "Ano_atual = 2019\n",
        "Ano_fabricacao = 1999"
      ]
    },
    {
      "cell_type": "code",
      "source": [
        "text + str( int( Km / (Ano_atual - Ano_fabricacao) ) ) + ' km'"
      ],
      "metadata": {
        "colab": {
          "base_uri": "https://localhost:8080/",
          "height": 36
        },
        "id": "UzIfAQqC2B6w",
        "outputId": "4d869f38-82b0-4702-95bc-b8cbc615993d"
      },
      "execution_count": 2,
      "outputs": [
        {
          "output_type": "execute_result",
          "data": {
            "text/plain": [
              "'A quilometragem média do veículo é 5000 km'"
            ],
            "application/vnd.google.colaboratory.intrinsic+json": {
              "type": "string"
            }
          },
          "metadata": {},
          "execution_count": 2
        }
      ]
    },
    {
      "cell_type": "markdown",
      "source": [
        "foram realizadas duas conversões. Na primeira, o resultado da operação (float) é convertido em um inteiro (int) e depois, o dado do tipo inteiro é convertido em uma string (str)"
      ],
      "metadata": {
        "id": "9a718dW12Jv_"
      }
    },
    {
      "cell_type": "code",
      "source": [],
      "metadata": {
        "id": "IOBphsa82MGp"
      },
      "execution_count": null,
      "outputs": []
    }
  ]
}