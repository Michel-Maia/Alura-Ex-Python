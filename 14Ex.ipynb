{
  "nbformat": 4,
  "nbformat_minor": 0,
  "metadata": {
    "colab": {
      "provenance": [],
      "authorship_tag": "ABX9TyNjKzwFI4q2moIvn9UDkRw/"
    },
    "kernelspec": {
      "name": "python3",
      "display_name": "Python 3"
    },
    "language_info": {
      "name": "python"
    }
  },
  "cells": [
    {
      "cell_type": "code",
      "execution_count": 1,
      "metadata": {
        "id": "cBsEjRD_pY5V"
      },
      "outputs": [],
      "source": [
        "carros = (\n",
        "    (\n",
        "        'Jetta Variant',\n",
        "        'Motor 4.0 Turbo',\n",
        "        2003,\n",
        "        False,\n",
        "        ('Rodas de liga', 'Travas elétricas', 'Piloto automático')\n",
        "    ),\n",
        "    (\n",
        "        'Passat',\n",
        "        'Motor Diesel',\n",
        "        1991,\n",
        "        True,\n",
        "        ('Central multimídia', 'Teto panorâmico', 'Freios ABS')\n",
        "    )\n",
        ")"
      ]
    },
    {
      "cell_type": "markdown",
      "source": [
        "se trata de uma tupla (1º nível) com duas tuplas, que representam um conjunto de dados de dois veículos (2º nível), e que uma destas informações (acessórios) vêm também dentro de uma tupla (3º nível).\n",
        "\n",
        "Agora é preciso iterar na tupla carros e imprimir todos os acessórios que aparecem"
      ],
      "metadata": {
        "id": "2IOIglO9pikM"
      }
    },
    {
      "cell_type": "code",
      "source": [
        "# resultado esperado\n",
        "# Rodas de liga\n",
        "# Travas elétricas\n",
        "# Piloto automático\n",
        "# Central multimídia\n",
        "# Teto panorâmico\n",
        "# Freios ABS"
      ],
      "metadata": {
        "id": "7OD5Bsn_piCQ"
      },
      "execution_count": null,
      "outputs": []
    },
    {
      "cell_type": "markdown",
      "source": [
        "no segundo laço for, é utilizado as listas de acessórios como iterador."
      ],
      "metadata": {
        "id": "t3mx5mlkqltV"
      }
    },
    {
      "cell_type": "code",
      "source": [
        "for tupla in carros:\n",
        "  for item in tupla[-1]:\n",
        "    print(item)"
      ],
      "metadata": {
        "colab": {
          "base_uri": "https://localhost:8080/"
        },
        "id": "CgLgsx4Vp9m5",
        "outputId": "a6f393f6-932c-4b98-bea4-f50ef2b39e65"
      },
      "execution_count": 6,
      "outputs": [
        {
          "output_type": "stream",
          "name": "stdout",
          "text": [
            "Rodas de liga\n",
            "Travas elétricas\n",
            "Piloto automático\n",
            "Central multimídia\n",
            "Teto panorâmico\n",
            "Freios ABS\n"
          ]
        }
      ]
    }
  ]
}