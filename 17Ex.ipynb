{
  "nbformat": 4,
  "nbformat_minor": 0,
  "metadata": {
    "colab": {
      "provenance": [],
      "authorship_tag": "ABX9TyPVGvf+Xn8ukDdhttC9hLJo"
    },
    "kernelspec": {
      "name": "python3",
      "display_name": "Python 3"
    },
    "language_info": {
      "name": "python"
    }
  },
  "cells": [
    {
      "cell_type": "code",
      "execution_count": 2,
      "metadata": {
        "id": "lNzS4TkJLt1M"
      },
      "outputs": [],
      "source": [
        "dados = {\n",
        "    'Crossfox': {'valor': 72000, 'ano': 2005}, \n",
        "    'DS5': {'valor': 125000, 'ano': 2015}, \n",
        "    'Fusca': {'valor': 150000, 'ano': 1976}, \n",
        "    'Jetta': {'valor': 88000, 'ano': 2010}, \n",
        "    'Passat': {'valor': 106000, 'ano': 1998}\n",
        "}"
      ]
    },
    {
      "cell_type": "markdown",
      "source": [
        "mprime somente os nomes dos veículos com ano de fabricação maior ou igual a 2000"
      ],
      "metadata": {
        "id": "Kt9rNVmZM2j9"
      }
    },
    {
      "cell_type": "markdown",
      "source": [
        "dados.items() retorna um iterador de tuplas, onde cada tupla tem como primeiro item a chave do dicionário e como segundo o respectivo valor"
      ],
      "metadata": {
        "id": "drV-ZA4COLR5"
      }
    },
    {
      "cell_type": "code",
      "source": [
        "for item in dados.items(): \n",
        "  if(item[1]['ano'] >= 2000):\n",
        "    print(item[0])"
      ],
      "metadata": {
        "colab": {
          "base_uri": "https://localhost:8080/"
        },
        "id": "f1vGel8FMjNK",
        "outputId": "2c4c37d9-6c0d-47ce-8ee0-72fe8174c9b8"
      },
      "execution_count": 9,
      "outputs": [
        {
          "output_type": "stream",
          "name": "stdout",
          "text": [
            "Crossfox\n",
            "DS5\n",
            "Jetta\n"
          ]
        }
      ]
    },
    {
      "cell_type": "code",
      "source": [
        "for item in dados.items():\n",
        "    print(item)"
      ],
      "metadata": {
        "colab": {
          "base_uri": "https://localhost:8080/"
        },
        "id": "KDBgwp8zOEng",
        "outputId": "a36c2441-6400-4cd6-f951-945cee691a93"
      },
      "execution_count": 10,
      "outputs": [
        {
          "output_type": "stream",
          "name": "stdout",
          "text": [
            "('Crossfox', {'valor': 72000, 'ano': 2005})\n",
            "('DS5', {'valor': 125000, 'ano': 2015})\n",
            "('Fusca', {'valor': 150000, 'ano': 1976})\n",
            "('Jetta', {'valor': 88000, 'ano': 2010})\n",
            "('Passat', {'valor': 106000, 'ano': 1998})\n"
          ]
        }
      ]
    },
    {
      "cell_type": "markdown",
      "source": [
        "Para acessar a chave do dicionário, basta utilizar item[0], e para acessar o valor, basta usar item[1]. Para acessar o ano dentro do dicionário, usamos item[1]['ano']."
      ],
      "metadata": {
        "id": "1Bk-U9tUOPKH"
      }
    }
  ]
}