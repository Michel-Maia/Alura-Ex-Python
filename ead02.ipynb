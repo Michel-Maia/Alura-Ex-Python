{
  "nbformat": 4,
  "nbformat_minor": 0,
  "metadata": {
    "colab": {
      "provenance": [],
      "authorship_tag": "ABX9TyOo+P7VCM7hJfYvXNAf7HCM"
    },
    "kernelspec": {
      "name": "python3",
      "display_name": "Python 3"
    },
    "language_info": {
      "name": "python"
    }
  },
  "cells": [
    {
      "cell_type": "code",
      "execution_count": 1,
      "metadata": {
        "colab": {
          "base_uri": "https://localhost:8080/"
        },
        "id": "m9jqCW7f-Gq_",
        "outputId": "2f4f8fcd-f0a6-4625-97d5-ea1780f400e1"
      },
      "outputs": [
        {
          "output_type": "stream",
          "name": "stdout",
          "text": [
            "Digite um número: 5\n",
            "Número ímpar!\n",
            "Digite um número: 4\n",
            "Número par!\n",
            "Digite um número: 7\n",
            "Número ímpar!\n",
            "Digite um número: 1\n",
            "Número ímpar!\n",
            "Digite um número: 0\n",
            "Número par!\n"
          ]
        }
      ],
      "source": [
        "numero = 1\n",
        "\n",
        "while numero != 0:\n",
        "  \n",
        "  numero = int(input(\"Digite um número: \"))\n",
        "\n",
        "  if numero % 2 == 0:\n",
        "    print(\"Número par!\")\n",
        "  else:\n",
        "    print(\"Número ímpar!\")"
      ]
    },
    {
      "cell_type": "markdown",
      "source": [
        "O comando while deve ser utilizado para construir e controlar a estrutura decisão, sempre que o número de repetições não seja conhecido. "
      ],
      "metadata": {
        "id": "lTKMOb_a-uWm"
      }
    }
  ]
}