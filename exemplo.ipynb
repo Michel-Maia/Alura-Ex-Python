{
  "nbformat": 4,
  "nbformat_minor": 0,
  "metadata": {
    "colab": {
      "provenance": [],
      "authorship_tag": "ABX9TyMtc2+HacUMjGl+DZthcmFX"
    },
    "kernelspec": {
      "name": "python3",
      "display_name": "Python 3"
    },
    "language_info": {
      "name": "python"
    }
  },
  "cells": [
    {
      "cell_type": "code",
      "source": [
        "print('Escola de dados')"
      ],
      "metadata": {
        "colab": {
          "base_uri": "https://localhost:8080/"
        },
        "id": "-JxW6ZghEX9R",
        "outputId": "7ec9d5aa-60ed-423f-c4c5-4dd190aef3c1"
      },
      "execution_count": 7,
      "outputs": [
        {
          "output_type": "stream",
          "name": "stdout",
          "text": [
            "Escola de dados\n"
          ]
        }
      ]
    },
    {
      "cell_type": "code",
      "execution_count": 6,
      "metadata": {
        "colab": {
          "base_uri": "https://localhost:8080/"
        },
        "id": "buY8CbxCDGmg",
        "outputId": "de5e2c70-ea2c-4f70-d2d4-6d217a2bfc82"
      },
      "outputs": [
        {
          "output_type": "stream",
          "name": "stdout",
          "text": [
            "nome: Enzo\n",
            "sobrenome: Leal\n"
          ]
        }
      ],
      "source": [
        "print('nome: Enzo')\n",
        "print('sobrenome: Leal')"
      ]
    },
    {
      "cell_type": "code",
      "source": [
        "print('E')\n",
        "print('N')\n",
        "print('Z')\n",
        "print('O')"
      ],
      "metadata": {
        "colab": {
          "base_uri": "https://localhost:8080/"
        },
        "id": "mj3-KOXOEsNj",
        "outputId": "ece0f43c-4b13-4f7b-b9eb-96837a0466c3"
      },
      "execution_count": 8,
      "outputs": [
        {
          "output_type": "stream",
          "name": "stdout",
          "text": [
            "E\n",
            "N\n",
            "Z\n",
            "O\n"
          ]
        }
      ]
    },
    {
      "cell_type": "code",
      "source": [
        "print(10, 'fevereiro', 2000)"
      ],
      "metadata": {
        "colab": {
          "base_uri": "https://localhost:8080/"
        },
        "id": "e62eCfNiFRds",
        "outputId": "62cbbfd2-cc39-4cbe-cd66-0c1e0bd23578"
      },
      "execution_count": 12,
      "outputs": [
        {
          "output_type": "stream",
          "name": "stdout",
          "text": [
            "10 fevereiro 2000\n"
          ]
        }
      ]
    },
    {
      "cell_type": "code",
      "source": [
        "print('ano atual:',2023)"
      ],
      "metadata": {
        "colab": {
          "base_uri": "https://localhost:8080/"
        },
        "id": "C3mPYZT3Fvh8",
        "outputId": "e7dd9187-3ddd-4671-8b83-5e32703beaaf"
      },
      "execution_count": 13,
      "outputs": [
        {
          "output_type": "stream",
          "name": "stdout",
          "text": [
            "ano atual: 2023\n"
          ]
        }
      ]
    },
    {
      "cell_type": "code",
      "source": [
        "# Esse é um comentário de uma linha\n",
        "print(10) # Podemos colocar outro comentário em uma linha após um código"
      ],
      "metadata": {
        "colab": {
          "base_uri": "https://localhost:8080/"
        },
        "id": "FztOaQCWGaqm",
        "outputId": "3f242a29-3699-4116-ff36-f849d67494dd"
      },
      "execution_count": 14,
      "outputs": [
        {
          "output_type": "stream",
          "name": "stdout",
          "text": [
            "10\n"
          ]
        }
      ]
    },
    {
      "cell_type": "code",
      "source": [
        "'''\n",
        "Esse é um comentário\n",
        "de várias linhas.\n",
        "'''\n"
      ],
      "metadata": {
        "colab": {
          "base_uri": "https://localhost:8080/",
          "height": 36
        },
        "id": "Sw7d7SGiGgEa",
        "outputId": "f3aca074-6cde-4cd1-c39d-6aca4a74fee2"
      },
      "execution_count": 15,
      "outputs": [
        {
          "output_type": "execute_result",
          "data": {
            "text/plain": [
              "'\\nEsse é um comentário\\nde várias linhas.\\n'"
            ],
            "application/vnd.google.colaboratory.intrinsic+json": {
              "type": "string"
            }
          },
          "metadata": {},
          "execution_count": 15
        }
      ]
    },
    {
      "cell_type": "markdown",
      "source": [
        "# Cabeçalho de nível 1\n",
        "## Cabeçalho de nível 2\n",
        "### Cabeçalho de nível 3"
      ],
      "metadata": {
        "id": "-46PyDJlG3-x"
      }
    },
    {
      "cell_type": "markdown",
      "source": [
        "negrito usa ** antes e depois do texto\n",
        "\n",
        "ex\n",
        "**Texto em negrito**"
      ],
      "metadata": {
        "id": "5EOqHBj9G73g"
      }
    },
    {
      "cell_type": "markdown",
      "source": [
        "itálico usa*\n",
        "ex\n",
        "*Texto em itálico*"
      ],
      "metadata": {
        "id": "Q2vuGFbUG_2A"
      }
    },
    {
      "cell_type": "markdown",
      "source": [
        "***Texto em negrito e itálico***"
      ],
      "metadata": {
        "id": "T6U8aBcPHAhh"
      }
    },
    {
      "cell_type": "markdown",
      "source": [
        "Listas\n",
        "Para construir listas não numeradas (em bullets), colocamos * e depois um espaço () antes do item\n",
        "\n",
        "* Item 1\n",
        "* Item 2\n",
        "* Item 3"
      ],
      "metadata": {
        "id": "hsROjoTcHOEN"
      }
    },
    {
      "cell_type": "markdown",
      "source": [
        "listas numeradas, podemos usar um número seguidos de um ponto e um espaço (1.) antes do item\n",
        "\n",
        "1. Item 1\n",
        "2. Item 2\n",
        "3. Item 3"
      ],
      "metadata": {
        "id": "lBWbWdRtHWJp"
      }
    },
    {
      "cell_type": "markdown",
      "source": [
        "link \n",
        " [texto do link](link)\n",
        "\n",
        " ex\n",
        " [Site da Alura](https://www.alura.com.br/)"
      ],
      "metadata": {
        "id": "uGblsy8DHhSv"
      }
    }
  ]
}