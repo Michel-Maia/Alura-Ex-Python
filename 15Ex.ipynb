{
  "nbformat": 4,
  "nbformat_minor": 0,
  "metadata": {
    "colab": {
      "provenance": [],
      "authorship_tag": "ABX9TyOiqdOorilw2WXdfPD3cQ9Q"
    },
    "kernelspec": {
      "name": "python3",
      "display_name": "Python 3"
    },
    "language_info": {
      "name": "python"
    }
  },
  "cells": [
    {
      "cell_type": "markdown",
      "source": [
        "Duas ferramentas bastante utilizadas quando iteramos com tuplas são o desempacotamento de tuplas e a built-in function zip().\n",
        "\n",
        "Com o desempacotamento de tuplas, é possível fazer declarações conjuntas de variáveis e utilizar cada variável individualmente"
      ],
      "metadata": {
        "id": "k4KNLqm_rVFg"
      }
    },
    {
      "cell_type": "code",
      "execution_count": 1,
      "metadata": {
        "id": "cKJlbHCerS8l"
      },
      "outputs": [],
      "source": [
        "nome, valor = ('Passat', 100000.0)"
      ]
    },
    {
      "cell_type": "markdown",
      "source": [
        "A função zip() permite gerar um iterador de tuplas\n",
        "\n",
        "In [1]:"
      ],
      "metadata": {
        "id": "e-_Zb7wsrdVg"
      }
    },
    {
      "cell_type": "code",
      "source": [
        "nomes = ['Passat', 'Crossfox']\n",
        "valores = [100000.0, 75000.0]\n",
        "list(zip(nomes, valores))"
      ],
      "metadata": {
        "colab": {
          "base_uri": "https://localhost:8080/"
        },
        "id": "bEFqMVDmrekr",
        "outputId": "e8947202-fe74-4b92-920e-347903eeab41"
      },
      "execution_count": 6,
      "outputs": [
        {
          "output_type": "execute_result",
          "data": {
            "text/plain": [
              "[('Passat', 100000.0), ('Crossfox', 75000.0)]"
            ]
          },
          "metadata": {},
          "execution_count": 6
        }
      ]
    },
    {
      "cell_type": "markdown",
      "source": [
        "Out [1]:"
      ],
      "metadata": {
        "id": "1D10um4kruiV"
      }
    },
    {
      "cell_type": "code",
      "source": [
        "[('Passat', 100000.0), ('Crossfox', 75000.0)]"
      ],
      "metadata": {
        "colab": {
          "base_uri": "https://localhost:8080/"
        },
        "id": "OPMOfFGorvc2",
        "outputId": "4e30103b-0d7a-410a-fc3e-dca0314976b9"
      },
      "execution_count": 7,
      "outputs": [
        {
          "output_type": "execute_result",
          "data": {
            "text/plain": [
              "[('Passat', 100000.0), ('Crossfox', 75000.0)]"
            ]
          },
          "metadata": {},
          "execution_count": 7
        }
      ]
    },
    {
      "cell_type": "code",
      "source": [
        "nomes = ['Passat', 'Crossfox', 'DS5', 'C4', 'Jetta']\n",
        "kms = [15000, 12000, 32000, 8000, 50000]"
      ],
      "metadata": {
        "id": "t1uxSjsJrzwB"
      },
      "execution_count": 8,
      "outputs": []
    },
    {
      "cell_type": "markdown",
      "source": [
        "veículos com quilometragem abaixo de 20.000 km"
      ],
      "metadata": {
        "id": "IenyO5TBr4Ox"
      }
    },
    {
      "cell_type": "code",
      "source": [
        "for nome, km in zip(nomes, kms):\n",
        "  if(km < 20000):\n",
        "    print(nome)"
      ],
      "metadata": {
        "colab": {
          "base_uri": "https://localhost:8080/"
        },
        "id": "MP6XD3QBzaRO",
        "outputId": "6597e3fc-60ed-44ed-c1cd-feffadcb93ab"
      },
      "execution_count": 10,
      "outputs": [
        {
          "output_type": "stream",
          "name": "stdout",
          "text": [
            "Passat\n",
            "Crossfox\n",
            "C4\n"
          ]
        }
      ]
    },
    {
      "cell_type": "markdown",
      "source": [
        " laço for (1ª linha do código), utilizamos o desempacotamento de tuplas e a função zip()"
      ],
      "metadata": {
        "id": "k3m2pvygz4M1"
      }
    }
  ]
}