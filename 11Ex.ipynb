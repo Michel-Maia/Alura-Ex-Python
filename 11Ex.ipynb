{
  "nbformat": 4,
  "nbformat_minor": 0,
  "metadata": {
    "colab": {
      "provenance": [],
      "authorship_tag": "ABX9TyM9vVHBQNGYLgqJfR/Pq4d+"
    },
    "kernelspec": {
      "name": "python3",
      "display_name": "Python 3"
    },
    "language_info": {
      "name": "python"
    }
  },
  "cells": [
    {
      "cell_type": "markdown",
      "source": [
        "Para obter o IMC, basta calcular a razão entre o peso de um indivíduo (kg) e sua altura elevada ao quadrado.\n"
      ],
      "metadata": {
        "id": "dtvK2H9ckviM"
      }
    },
    {
      "cell_type": "markdown",
      "source": [
        "obter o valor do IMC de cada indivíduo, sem a necessidade de laços for"
      ],
      "metadata": {
        "id": "3uLggpRck9K8"
      }
    },
    {
      "cell_type": "code",
      "source": [
        "import numpy as np\n"
      ],
      "metadata": {
        "id": "EVgrged9lTUV"
      },
      "execution_count": 2,
      "outputs": []
    },
    {
      "cell_type": "code",
      "execution_count": 3,
      "metadata": {
        "colab": {
          "base_uri": "https://localhost:8080/"
        },
        "id": "1Lq8ywJQjfT1",
        "outputId": "a528dfb4-1f38-41bc-fe6f-5d32ae00a111"
      },
      "outputs": [
        {
          "output_type": "execute_result",
          "data": {
            "text/plain": [
              "array([29.36288089, 29.26224956, 24.48979592])"
            ]
          },
          "metadata": {},
          "execution_count": 3
        }
      ],
      "source": [
        "peso = np.array([106.0, 68.5, 75.0])\n",
        "altura = np.array([1.9, 1.53, 1.75])\n",
        "IMC = peso / (altura * altura)\n",
        "IMC"
      ]
    },
    {
      "cell_type": "markdown",
      "source": [
        "cálculo do IMC utilizando arrays Numpy"
      ],
      "metadata": {
        "id": "pD1Kvl1vlHt_"
      }
    },
    {
      "cell_type": "code",
      "source": [
        "peso = np.array([106.0, 68.5, 75.0])\n",
        "altura = np.array([1.9, 1.53, 1.75])\n",
        "IMC = peso / altura ** 2\n",
        "IMC"
      ],
      "metadata": {
        "colab": {
          "base_uri": "https://localhost:8080/"
        },
        "id": "_bXX6_Pxk8Ut",
        "outputId": "4b5f300e-141a-4910-f15b-fb586ba2ff0c"
      },
      "execution_count": 4,
      "outputs": [
        {
          "output_type": "execute_result",
          "data": {
            "text/plain": [
              "array([29.36288089, 29.26224956, 24.48979592])"
            ]
          },
          "metadata": {},
          "execution_count": 4
        }
      ]
    },
    {
      "cell_type": "markdown",
      "source": [
        "ex\n",
        "código que permite a seleção, sem utilização de operadores lógicos (and e or), das informações de nome e estado civil, somente das pessoas do sexo masculino."
      ],
      "metadata": {
        "id": "9HozmfzEqnhg"
      }
    },
    {
      "cell_type": "code",
      "source": [
        "dados = np.array(\n",
        "    [\n",
        "        ['Roberto', 'casado', 'masculino'],\n",
        "        ['Sheila', 'solteira', 'feminino'],\n",
        "        ['Bruno', 'solteiro', 'masculino'],\n",
        "        ['Rita', 'casada', 'feminino']\n",
        "    ]\n",
        ")"
      ],
      "metadata": {
        "id": "pruLKqiHqoxw"
      },
      "execution_count": 5,
      "outputs": []
    },
    {
      "cell_type": "code",
      "source": [
        "dados[0::2, :2]"
      ],
      "metadata": {
        "colab": {
          "base_uri": "https://localhost:8080/"
        },
        "id": "Ajj0b6mTq4vl",
        "outputId": "1bdc2e4b-fb1d-44d0-90d7-52a3b127c806"
      },
      "execution_count": 11,
      "outputs": [
        {
          "output_type": "execute_result",
          "data": {
            "text/plain": [
              "array([['Roberto', 'casado'],\n",
              "       ['Bruno', 'solteiro']], dtype='<U9')"
            ]
          },
          "metadata": {},
          "execution_count": 11
        }
      ]
    }
  ]
}