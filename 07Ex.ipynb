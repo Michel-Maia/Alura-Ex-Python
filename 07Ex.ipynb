{
  "nbformat": 4,
  "nbformat_minor": 0,
  "metadata": {
    "colab": {
      "provenance": [],
      "authorship_tag": "ABX9TyNU/+5eKxYUbfZbBLBElGVK"
    },
    "kernelspec": {
      "name": "python3",
      "display_name": "Python 3"
    },
    "language_info": {
      "name": "python"
    }
  },
  "cells": [
    {
      "cell_type": "code",
      "execution_count": 1,
      "metadata": {
        "id": "1R_WsbcBalDN"
      },
      "outputs": [],
      "source": [
        "letras = ['A', 'B', 'C', 'D', 'E', 'F', 'G', 'H']"
      ]
    },
    {
      "cell_type": "markdown",
      "source": [
        "para saída [ 'A', 'B' ]\n",
        "\n",
        "\n",
        "\n"
      ],
      "metadata": {
        "id": "weQOogMFbJHG"
      }
    },
    {
      "cell_type": "code",
      "source": [
        "letras[:2]"
      ],
      "metadata": {
        "colab": {
          "base_uri": "https://localhost:8080/"
        },
        "id": "hz-t94HQa6IB",
        "outputId": "565e4395-da80-49c3-a35d-be26f6de7c86"
      },
      "execution_count": 6,
      "outputs": [
        {
          "output_type": "execute_result",
          "data": {
            "text/plain": [
              "['A', 'B']"
            ]
          },
          "metadata": {},
          "execution_count": 6
        }
      ]
    },
    {
      "cell_type": "markdown",
      "source": [
        "para saída [ 'C', 'D', 'E' ]"
      ],
      "metadata": {
        "id": "XF_6LODAbqBv"
      }
    },
    {
      "cell_type": "code",
      "source": [
        "letras[2:5]"
      ],
      "metadata": {
        "colab": {
          "base_uri": "https://localhost:8080/"
        },
        "id": "786EVD4Va5_X",
        "outputId": "d6fdaa1c-929f-42e0-edb9-3f93ffb8ad15"
      },
      "execution_count": 7,
      "outputs": [
        {
          "output_type": "execute_result",
          "data": {
            "text/plain": [
              "['C', 'D', 'E']"
            ]
          },
          "metadata": {},
          "execution_count": 7
        }
      ]
    },
    {
      "cell_type": "markdown",
      "source": [
        "para saída [ 'F', 'G', 'H' ]"
      ],
      "metadata": {
        "id": "JSj6GlHBbq9G"
      }
    },
    {
      "cell_type": "code",
      "source": [
        "letras[-3:]"
      ],
      "metadata": {
        "colab": {
          "base_uri": "https://localhost:8080/"
        },
        "id": "kJjL0aU6a5w5",
        "outputId": "38d1a25b-c4fb-42c0-a351-6455704d04d0"
      },
      "execution_count": 9,
      "outputs": [
        {
          "output_type": "execute_result",
          "data": {
            "text/plain": [
              "['F', 'G', 'H']"
            ]
          },
          "metadata": {},
          "execution_count": 9
        }
      ]
    }
  ]
}